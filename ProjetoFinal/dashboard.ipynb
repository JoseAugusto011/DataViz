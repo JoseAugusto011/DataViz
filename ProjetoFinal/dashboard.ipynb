{
 "cells": [
  {
   "cell_type": "code",
   "execution_count": 12,
   "metadata": {},
   "outputs": [],
   "source": [
    "import pandas as pd\n",
    "import matplotlib.pyplot as plt\n",
    "\n",
    "# Carregar os dados do arquivo CSV\n",
    "\n",
    "data = pd.read_csv('b1319.csv', sep=';')\n",
    "# Pegar todas as participações de São Paulo e Flamengo\n",
    "\n",
    "times = list(data['team'])\n",
    "\n",
    "tricolor_idx = [i for i, team in enumerate(times) if 'São Paulo' in team]\n",
    "mengo_idx = [i for i, team in enumerate(times) if 'Flamengo' in team]\n",
    "\n",
    "tricolor = data.iloc[tricolor_idx]\n",
    "mengo = data.iloc[mengo_idx]\n",
    "\n",
    "# # salvar os dados em um novo arquivo CSV\n",
    "\n",
    "# tricolor.to_csv('tricolor.csv', index=False)\n",
    "# mengo.to_csv('mengo.csv', index=False)\n",
    "\n",
    "# Carregar os dados\n",
    "mengo = pd.read_csv(\"mengo.csv\")\n",
    "tricolor = pd.read_csv(\"tricolor.csv\")"
   ]
  }
 ],
 "metadata": {
  "kernelspec": {
   "display_name": "Python 3",
   "language": "python",
   "name": "python3"
  },
  "language_info": {
   "codemirror_mode": {
    "name": "ipython",
    "version": 3
   },
   "file_extension": ".py",
   "mimetype": "text/x-python",
   "name": "python",
   "nbconvert_exporter": "python",
   "pygments_lexer": "ipython3",
   "version": "3.9.7 (tags/v3.9.7:1016ef3, Aug 30 2021, 20:19:38) [MSC v.1929 64 bit (AMD64)]"
  },
  "orig_nbformat": 4,
  "vscode": {
   "interpreter": {
    "hash": "c7eff589202d1b081309a21c1fcab32e7bd6b92ee77a4b4c9e08aff7652052eb"
   }
  }
 },
 "nbformat": 4,
 "nbformat_minor": 2
}
